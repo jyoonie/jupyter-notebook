{
 "cells": [
  {
   "cell_type": "code",
   "execution_count": 2,
   "metadata": {},
   "outputs": [],
   "source": [
    "#Tic Tac Toe Project"
   ]
  },
  {
   "cell_type": "code",
   "execution_count": 3,
   "metadata": {},
   "outputs": [],
   "source": [
    "#Step 1: Write a function that can print out a board. Set up your board as a list, \n",
    "#where each index 1-9 corresponds with a number on a number pad, \n",
    "#so you get a 3 by 3 board representation.\n",
    "\n",
    "from IPython.display import clear_output\n",
    "\n",
    "def display_board(b):\n",
    "    clear_output()\n",
    "    print('   ｜  '+' ｜  ')\n",
    "    print(' '+b[7]+' ｜ '+b[8]+' ｜ '+b[9])\n",
    "    print('   ｜  '+' ｜  ')\n",
    "    print('-------------')\n",
    "    print('   ｜  '+' ｜  ')\n",
    "    print(' '+b[4]+' ｜ '+b[5]+' ｜ '+b[6])\n",
    "    print('   ｜  '+' ｜  ')\n",
    "    print('-------------')\n",
    "    print('   ｜  '+' ｜  ')\n",
    "    print(' '+b[1]+' ｜ '+b[2]+' ｜ '+b[3])\n",
    "    print('   ｜  '+' ｜  ')"
   ]
  },
  {
   "cell_type": "code",
   "execution_count": 4,
   "metadata": {},
   "outputs": [
    {
     "name": "stdout",
     "output_type": "stream",
     "text": [
      "   ｜   ｜  \n",
      " X ｜ O ｜ X\n",
      "   ｜   ｜  \n",
      "-------------\n",
      "   ｜   ｜  \n",
      " O ｜ X ｜ O\n",
      "   ｜   ｜  \n",
      "-------------\n",
      "   ｜   ｜  \n",
      " X ｜ O ｜ X\n",
      "   ｜   ｜  \n"
     ]
    }
   ],
   "source": [
    "test_board=['#','X','O','X','O','X','O','X','O','X']\n",
    "\n",
    "display_board(test_board)"
   ]
  },
  {
   "cell_type": "code",
   "execution_count": 5,
   "metadata": {},
   "outputs": [],
   "source": [
    "#Step 2: Write a function that can take in a player input and assign their marker as 'X' or 'O'. \n",
    "#Think about using while loops to continually ask until you get a correct answer.\n",
    "\n",
    "def player_input():\n",
    "    marker = ''\n",
    "    \n",
    "    while not (marker == 'X' or marker == 'O'):\n",
    "        marker = input('Player 1: Do you want to be X or O? ').upper()\n",
    "\n",
    "    if marker == 'X':\n",
    "        return ('X', 'O')\n",
    "    else:\n",
    "        return ('O', 'X')\n",
    "\n",
    "#def player_input():\n",
    "    #marker=''\n",
    "    \n",
    "    ##keep asking player 1 to choose x or o\n",
    "    #while marker !='X' and marker != 'O':\n",
    "        #marker=input('Player 1: Do you want to be X or O? ')\n",
    "    ##assign player 2, the opposite marker\n",
    "    #player1=marker\n",
    "    \n",
    "    #if player1=='O':\n",
    "        #player2='X'\n",
    "    #else:\n",
    "        #player2='O'\n",
    "    #return (player1,player2)"
   ]
  },
  {
   "cell_type": "code",
   "execution_count": 6,
   "metadata": {},
   "outputs": [
    {
     "name": "stdout",
     "output_type": "stream",
     "text": [
      "Player 1: Do you want to be X or O? \n",
      "Player 1: Do you want to be X or O? O\n"
     ]
    }
   ],
   "source": [
    "player1,player2=player_input()"
   ]
  },
  {
   "cell_type": "code",
   "execution_count": 7,
   "metadata": {},
   "outputs": [
    {
     "name": "stdout",
     "output_type": "stream",
     "text": [
      "Player 1: Do you want to be X or O? \n",
      "Player 1: Do you want to be X or O? O\n"
     ]
    },
    {
     "data": {
      "text/plain": [
       "('O', 'X')"
      ]
     },
     "execution_count": 7,
     "metadata": {},
     "output_type": "execute_result"
    }
   ],
   "source": [
    "player_input()"
   ]
  },
  {
   "cell_type": "code",
   "execution_count": 8,
   "metadata": {
    "scrolled": true
   },
   "outputs": [
    {
     "data": {
      "text/plain": [
       "'O'"
      ]
     },
     "execution_count": 8,
     "metadata": {},
     "output_type": "execute_result"
    }
   ],
   "source": [
    "player1"
   ]
  },
  {
   "cell_type": "code",
   "execution_count": 10,
   "metadata": {},
   "outputs": [
    {
     "name": "stdout",
     "output_type": "stream",
     "text": [
      "Choose your next position: (1-9) 9\n"
     ]
    }
   ],
   "source": [
    "#Step 3: Write a function that takes in the board list object, a marker ('X' or 'O'), \n",
    "#and a desired position (number 1-9) and assigns it to the board.\n",
    "\n",
    "b=[' ']*10\n",
    "marker=player1\n",
    "position=int(input('Choose your next position: (1-9) '))\n",
    "\n",
    "def place_marker(b, marker, position):\n",
    "    \n",
    "    b[position]=marker\n",
    "    \n",
    "    def display_board(b):\n",
    "        print('   ｜  '+' ｜  ')\n",
    "        print(' '+b[7]+' ｜ '+b[8]+' ｜ '+b[9])\n",
    "        print('   ｜  '+' ｜  ')\n",
    "        print('-------------')\n",
    "        print('   ｜  '+' ｜  ')\n",
    "        print(' '+b[4]+' ｜ '+b[5]+' ｜ '+b[6])\n",
    "        print('   ｜  '+' ｜  ')\n",
    "        print('-------------')\n",
    "        print('   ｜  '+' ｜  ')\n",
    "        print(' '+b[1]+' ｜ '+b[2]+' ｜ '+b[3])\n",
    "        print('   ｜  '+' ｜  ')"
   ]
  },
  {
   "cell_type": "code",
   "execution_count": 11,
   "metadata": {},
   "outputs": [
    {
     "name": "stdout",
     "output_type": "stream",
     "text": [
      "   ｜   ｜  \n",
      "   ｜ $ ｜  \n",
      "   ｜   ｜  \n",
      "-------------\n",
      "   ｜   ｜  \n",
      "   ｜   ｜  \n",
      "   ｜   ｜  \n",
      "-------------\n",
      "   ｜   ｜  \n",
      "   ｜   ｜  \n",
      "   ｜   ｜  \n"
     ]
    }
   ],
   "source": [
    "place_marker(b, '$', 8)\n",
    "display_board(b)"
   ]
  },
  {
   "cell_type": "code",
   "execution_count": 12,
   "metadata": {},
   "outputs": [],
   "source": [
    "#Step 4: Write a function that takes in a board and a mark (X or O) \n",
    "#and then checks to see if that mark has won.\n",
    "\n",
    "def win_check(board, mark):\n",
    "    if board[1]==board[5]==board[9]==mark or board[3]==board[5]==board[7]==mark or board[1]==board[2]==board[3]==mark or board[4]==board[5]==board[6]==mark or board[7]==board[8]==board[9]==mark or board[1]==board[4]==board[7]==mark or board[2]==board[5]==board[8]==mark or board[3]==board[6]==board[9]==mark:\n",
    "        return True\n",
    "    else:\n",
    "        return False\n",
    "         \n",
    "#indexes=[i for i,x in enumerate(board) if x == mark]\n",
    "    \n",
    "#wincon=[[1,2,3],[4,5,6],[7,8,9],[1,5,9],[3,5,7],[1,4,7],[2,5,8],[3,6,9]]\n",
    "    \n",
    "#for condition in wincon:\n",
    "    #if condition in list(indexes):\n",
    "        #return True\n",
    "    \n",
    "    #else:\n",
    "        #return False"
   ]
  },
  {
   "cell_type": "code",
   "execution_count": 13,
   "metadata": {},
   "outputs": [
    {
     "data": {
      "text/plain": [
       "True"
      ]
     },
     "execution_count": 13,
     "metadata": {},
     "output_type": "execute_result"
    }
   ],
   "source": [
    "win_check(b,' ')"
   ]
  },
  {
   "cell_type": "code",
   "execution_count": 14,
   "metadata": {},
   "outputs": [],
   "source": [
    "l=['O','X','O','O','X','X','O','O','O','X']"
   ]
  },
  {
   "cell_type": "code",
   "execution_count": 15,
   "metadata": {},
   "outputs": [
    {
     "name": "stdout",
     "output_type": "stream",
     "text": [
      "   ｜   ｜  \n",
      " O ｜ O ｜ X\n",
      "   ｜   ｜  \n",
      "-------------\n",
      "   ｜   ｜  \n",
      " X ｜ X ｜ O\n",
      "   ｜   ｜  \n",
      "-------------\n",
      "   ｜   ｜  \n",
      " X ｜ O ｜ O\n",
      "   ｜   ｜  \n"
     ]
    }
   ],
   "source": [
    "display_board(l)"
   ]
  },
  {
   "cell_type": "code",
   "execution_count": 16,
   "metadata": {},
   "outputs": [
    {
     "data": {
      "text/plain": [
       "True"
      ]
     },
     "execution_count": 16,
     "metadata": {},
     "output_type": "execute_result"
    }
   ],
   "source": [
    "win_check(l,'X')"
   ]
  },
  {
   "cell_type": "code",
   "execution_count": 17,
   "metadata": {},
   "outputs": [],
   "source": [
    "#Step 5: Write a function that uses the random module to randomly decide which player goes first.\n",
    "#You may want to lookup random.randint() Return a string of which player went first.\n",
    "\n",
    "import random\n",
    "\n",
    "def choose_first():\n",
    "    if random.randint(0, 1) == 0:\n",
    "        return 'Player 2'\n",
    "    else:\n",
    "        return 'Player 1'\n",
    "\n",
    "#import random\n",
    "\n",
    "#def choose_first():\n",
    "    #a=random.randint(1,10) #player1 이름\n",
    "    #b=random.randint(1,10) #player2 이름\n",
    "    #if a>b:\n",
    "        #return 'Player1 goes first' #아니면 a,b 중 결정해서 player1이라는 이름 붙여주기\n",
    "    #else:\n",
    "        #return 'Player2 goes first'"
   ]
  },
  {
   "cell_type": "code",
   "execution_count": 18,
   "metadata": {},
   "outputs": [
    {
     "data": {
      "text/plain": [
       "'Player 2'"
      ]
     },
     "execution_count": 18,
     "metadata": {},
     "output_type": "execute_result"
    }
   ],
   "source": [
    "choose_first()"
   ]
  },
  {
   "cell_type": "code",
   "execution_count": 19,
   "metadata": {},
   "outputs": [],
   "source": [
    "#Step 6: Write a function that returns a boolean\n",
    "#indicating whether a space on the board is freely available.\n",
    "\n",
    "def space_check(board, position):\n",
    "    return board[position]==' '"
   ]
  },
  {
   "cell_type": "code",
   "execution_count": 20,
   "metadata": {
    "scrolled": true
   },
   "outputs": [
    {
     "data": {
      "text/plain": [
       "True"
      ]
     },
     "execution_count": 20,
     "metadata": {},
     "output_type": "execute_result"
    }
   ],
   "source": [
    "space_check(b,0)"
   ]
  },
  {
   "cell_type": "code",
   "execution_count": 21,
   "metadata": {},
   "outputs": [],
   "source": [
    "#Step 7: Write a function that checks if the board is full and returns a boolean value. \n",
    "#True if full, False otherwise.\n",
    "\n",
    "def full_board_check(board):\n",
    "    for i in range(1,10):\n",
    "        if space_check(board, i):\n",
    "            return False\n",
    "    return True\n",
    "\n",
    "#def full_board_check(board):\n",
    "    #return not ' ' in board[1:10]"
   ]
  },
  {
   "cell_type": "code",
   "execution_count": 22,
   "metadata": {
    "scrolled": true
   },
   "outputs": [
    {
     "data": {
      "text/plain": [
       "False"
      ]
     },
     "execution_count": 22,
     "metadata": {},
     "output_type": "execute_result"
    }
   ],
   "source": [
    "full_board_check(b)"
   ]
  },
  {
   "cell_type": "code",
   "execution_count": 23,
   "metadata": {},
   "outputs": [],
   "source": [
    "#Step 8: Write a function that asks for a player's next position (as a number 1-9) \n",
    "#and then uses the function from step 6 to check if it's a free position. If it is, \n",
    "#then return the position for later use.\n",
    "\n",
    "def player_choice(board):\n",
    "    position = 0 #다시 묻는건데, 밑에 while 조건은 잘못 입력했을 시 계속 묻기 위함이고\n",
    "                 #사실상 걍 다시 position 묻는거임\n",
    "    \n",
    "    while position not in [1,2,3,4,5,6,7,8,9] or not space_check(board, position):\n",
    "        position = int(input('Choose your next position: (1-9) '))\n",
    "        \n",
    "    return position\n",
    "\n",
    "#def player_choice(board):\n",
    "    \n",
    "    #space_check(board, int(input('Please enter a number: ')))"
   ]
  },
  {
   "cell_type": "code",
   "execution_count": 24,
   "metadata": {},
   "outputs": [
    {
     "name": "stdout",
     "output_type": "stream",
     "text": [
      "Choose your next position: (1-9) 9\n"
     ]
    },
    {
     "data": {
      "text/plain": [
       "9"
      ]
     },
     "execution_count": 24,
     "metadata": {},
     "output_type": "execute_result"
    }
   ],
   "source": [
    "player_choice(b)"
   ]
  },
  {
   "cell_type": "code",
   "execution_count": 25,
   "metadata": {},
   "outputs": [],
   "source": [
    "#Step 9: Write a function that asks the player if they want to play again\n",
    "#and returns a boolean True if they do want to play again.\n",
    "\n",
    "def replay():\n",
    "    x=input(\"Do you want to play again? Yes or No: \")\n",
    "    \n",
    "    return x.lower()==\"yes\""
   ]
  },
  {
   "cell_type": "code",
   "execution_count": 26,
   "metadata": {},
   "outputs": [
    {
     "name": "stdout",
     "output_type": "stream",
     "text": [
      "Do you want to play again? Yes or No: YES\n"
     ]
    },
    {
     "data": {
      "text/plain": [
       "True"
      ]
     },
     "execution_count": 26,
     "metadata": {},
     "output_type": "execute_result"
    }
   ],
   "source": [
    "replay()"
   ]
  },
  {
   "cell_type": "code",
   "execution_count": 27,
   "metadata": {},
   "outputs": [
    {
     "name": "stdout",
     "output_type": "stream",
     "text": [
      "   ｜   ｜  \n",
      " X ｜ O ｜ O\n",
      "   ｜   ｜  \n",
      "-------------\n",
      "   ｜   ｜  \n",
      " O ｜ X ｜ X\n",
      "   ｜   ｜  \n",
      "-------------\n",
      "   ｜   ｜  \n",
      " O ｜ X ｜ O\n",
      "   ｜   ｜  \n",
      "The game is a draw!\n",
      "Do you want to play again? Yes or No: NO\n"
     ]
    }
   ],
   "source": [
    "#Step 10: Here comes the hard part! \n",
    "#Use while loops and the functions you've made to run the game!\n",
    "\n",
    "print('Welcome to Tic Tac Toe!')\n",
    "\n",
    "while True:\n",
    "    # Reset the board\n",
    "    theBoard = [' '] * 10\n",
    "    player1_marker, player2_marker = player_input()\n",
    "    turn = choose_first()\n",
    "    print(turn + ' will go first.')\n",
    "    \n",
    "    play_game = input('Are you ready to play? Enter Yes or No.')\n",
    "    \n",
    "    if play_game.lower()[0] == 'y':\n",
    "        game_on = True\n",
    "    else:\n",
    "        game_on = False\n",
    "\n",
    "    while game_on:\n",
    "        if turn == 'Player 1':\n",
    "            # Player1's turn.\n",
    "            \n",
    "            display_board(theBoard)\n",
    "            position = player_choice(theBoard)\n",
    "            place_marker(theBoard, player1_marker, position)\n",
    "\n",
    "            if win_check(theBoard, player1_marker):\n",
    "                display_board(theBoard)\n",
    "                print('Congratulations! You have won the game!')\n",
    "                game_on = False\n",
    "            else:\n",
    "                if full_board_check(theBoard):\n",
    "                    display_board(theBoard)\n",
    "                    print('The game is a draw!')\n",
    "                    break\n",
    "                else:\n",
    "                    turn = 'Player 2'\n",
    "\n",
    "        else:\n",
    "            # Player2's turn.\n",
    "            \n",
    "            display_board(theBoard)\n",
    "            position = player_choice(theBoard)\n",
    "            place_marker(theBoard, player2_marker, position)\n",
    "\n",
    "            if win_check(theBoard, player2_marker):\n",
    "                display_board(theBoard)\n",
    "                print('Player 2 has won!')\n",
    "                game_on = False\n",
    "            else:\n",
    "                if full_board_check(theBoard):\n",
    "                    display_board(theBoard)\n",
    "                    print('The game is a draw!')\n",
    "                    break\n",
    "                else:\n",
    "                    turn = 'Player 1'\n",
    "\n",
    "    if not replay():\n",
    "        break\n",
    "        \n",
    "#display_board(b):board display\n",
    "#player_input(): set the players' markers #################\n",
    "#place_marker(b, marker, position): put markers on the board\n",
    "#win_check(board, mark): check if someone's win\n",
    "#choose_first(): who's gonna play first? ################\n",
    "#space_check(board, position): is it a free position?\n",
    "#full_board_check(board):check if there's a tie\n",
    "#player_choice(board): \n",
    "#replay(): ask if want to play again"
   ]
  },
  {
   "cell_type": "code",
   "execution_count": null,
   "metadata": {},
   "outputs": [],
   "source": [
    "#print(\"Welcome to Tic Tac Toe!\")\n",
    "\n",
    "#b=[' ']*10\n",
    "\n",
    "#while True:\n",
    "    \n",
    "    #player_input()    \n",
    "    #choose_first()\n",
    "    \n",
    "    #x=input(\"Are you ready to play? Enter Yes or No. \")\n",
    "    \n",
    "    #if x=='No':\n",
    "        \n",
    "        #break\n",
    "    \n",
    "    #while full_board_check(b)==True or (win_check(b, 'X')==False and win_check(b, 'O')==False):\n",
    "        \n",
    "        #display_board(b)\n",
    "        \n",
    "        #place_marker(b, player1, position)\n",
    "        \n",
    "        #place_marker(b, player2, position)\n",
    "        \n",
    "    #if not replay():\n",
    "        \n",
    "        #break"
   ]
  }
 ],
 "metadata": {
  "kernelspec": {
   "display_name": "Python 3",
   "language": "python",
   "name": "python3"
  },
  "language_info": {
   "codemirror_mode": {
    "name": "ipython",
    "version": 3
   },
   "file_extension": ".py",
   "mimetype": "text/x-python",
   "name": "python",
   "nbconvert_exporter": "python",
   "pygments_lexer": "ipython3",
   "version": "3.7.3"
  }
 },
 "nbformat": 4,
 "nbformat_minor": 2
}
