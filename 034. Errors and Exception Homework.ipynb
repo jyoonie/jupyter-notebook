{
 "cells": [
  {
   "cell_type": "code",
   "execution_count": 3,
   "metadata": {},
   "outputs": [
    {
     "name": "stdout",
     "output_type": "stream",
     "text": [
      "Oops, you have an error. Try again\n"
     ]
    }
   ],
   "source": [
    "#1\n",
    "\n",
    "try:\n",
    "    for i in ['a','b','c']:\n",
    "        print(i**2)\n",
    "except:\n",
    "    print(\"Oops, you have an error. Try again\")"
   ]
  },
  {
   "cell_type": "code",
   "execution_count": 4,
   "metadata": {},
   "outputs": [
    {
     "name": "stdout",
     "output_type": "stream",
     "text": [
      "Oops TypeError\n"
     ]
    }
   ],
   "source": [
    "#1\n",
    "\n",
    "try:\n",
    "    for i in ['a','b','c']:\n",
    "        print(i**2)\n",
    "except TypeError: #엥? 왜 딴 에러하면 안되지? 밑에처럼?\n",
    "    print(\"Oops TypeError\")\n",
    "else:\n",
    "    print(\"Ouch\")"
   ]
  },
  {
   "cell_type": "code",
   "execution_count": 6,
   "metadata": {},
   "outputs": [
    {
     "name": "stdout",
     "output_type": "stream",
     "text": [
      "Please devide again\n",
      "All Done\n"
     ]
    }
   ],
   "source": [
    "#2\n",
    "\n",
    "try:\n",
    "    x = 5\n",
    "    y = 0\n",
    "    z = x/y\n",
    "except ZeroDivisionError: #zerodivisionerror 첨에 안됐었음..;\n",
    "    print(\"Please devide again\")\n",
    "else:\n",
    "    print(\"You're right\")\n",
    "finally:\n",
    "    print(\"All Done\")    "
   ]
  },
  {
   "cell_type": "code",
   "execution_count": 7,
   "metadata": {},
   "outputs": [],
   "source": [
    "#3\n",
    "\n",
    "def ask():\n",
    "    while True:\n",
    "        try:\n",
    "            h=input(\"Input an integer: \")\n",
    "            print(int(h)**2) #아 이부분은 안해도 되는듯! 그리고 아예 input에 int걸기!\n",
    "        except:\n",
    "            print(\"An error occurred! Please try again!\")\n",
    "            continue\n",
    "        else:\n",
    "            print(\"Thank you, your number squared is: \"+h)\n",
    "            break"
   ]
  },
  {
   "cell_type": "code",
   "execution_count": 9,
   "metadata": {
    "scrolled": true
   },
   "outputs": [
    {
     "name": "stdout",
     "output_type": "stream",
     "text": [
      "Input an integer: 10\n",
      "100\n",
      "Thank you, your number squared is: 10\n"
     ]
    }
   ],
   "source": [
    "ask()"
   ]
  },
  {
   "cell_type": "code",
   "execution_count": 10,
   "metadata": {},
   "outputs": [],
   "source": [
    "#3 부연설명!\n",
    "\n",
    "def ask():\n",
    "    \n",
    "    #while True로 할 게 아니라! 조건을 설정할 수도 있음. 예를 들어\n",
    "    waiting = True #Waiting for the correct response\n",
    "    while waiting:\n",
    "        try:\n",
    "            h=input(\"Input an integer: \")\n",
    "            print(int(h)**2) #아 이부분은 안해도 되는듯! 그리고 아예 input에 int걸기!\n",
    "        except:\n",
    "            print(\"An error occurred! Please try again!\")\n",
    "            continue\n",
    "        else:\n",
    "            print(\"Thank you, your number squared is: \"+h)\n",
    "            waiting=False #여기도 마찬가지로 break 대신 조건을 false로 해줌"
   ]
  },
  {
   "cell_type": "code",
   "execution_count": 11,
   "metadata": {},
   "outputs": [
    {
     "name": "stdout",
     "output_type": "stream",
     "text": [
      "Input an integer: 10\n",
      "100\n",
      "Thank you, your number squared is: 10\n"
     ]
    }
   ],
   "source": [
    "ask()"
   ]
  }
 ],
 "metadata": {
  "kernelspec": {
   "display_name": "Python 3",
   "language": "python",
   "name": "python3"
  },
  "language_info": {
   "codemirror_mode": {
    "name": "ipython",
    "version": 3
   },
   "file_extension": ".py",
   "mimetype": "text/x-python",
   "name": "python",
   "nbconvert_exporter": "python",
   "pygments_lexer": "ipython3",
   "version": "3.7.3"
  }
 },
 "nbformat": 4,
 "nbformat_minor": 2
}
