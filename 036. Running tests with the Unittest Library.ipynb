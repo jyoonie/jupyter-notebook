{
 "cells": [
  {
   "cell_type": "code",
   "execution_count": 1,
   "metadata": {},
   "outputs": [],
   "source": [
    "#Unittest allows you to write your own test program\n",
    "#and the goal is to set a specific set of data to your program\n",
    "#analyze the returned results and then see if it actually gives you the expected result"
   ]
  },
  {
   "cell_type": "code",
   "execution_count": null,
   "metadata": {},
   "outputs": [],
   "source": [
    "#So you have your scripts and this could be lots of scripts, it could be a single script\n",
    "#and you call functions or classes whatever you want\n",
    "#and then inside of your testing script you're going to import uniitest\n",
    "#import any of the scripts you've been working on,\n",
    "#create a class for testing(you're going to inherit from uniitest,testcase)\n",
    "#and then you get to have methods to test for any situations you can think of.\n",
    "#so you'll set whatever variables you need and then at the end of the day somehow\n",
    "#you're going to call functions or classes passing in something,\n",
    "#you get a result and then you just assert equal\n",
    "#so you say hey, is the result I'm geetting from my script THE EXOECTED RESULT?"
   ]
  }
 ],
 "metadata": {
  "kernelspec": {
   "display_name": "Python 3",
   "language": "python",
   "name": "python3"
  },
  "language_info": {
   "codemirror_mode": {
    "name": "ipython",
    "version": 3
   },
   "file_extension": ".py",
   "mimetype": "text/x-python",
   "name": "python",
   "nbconvert_exporter": "python",
   "pygments_lexer": "ipython3",
   "version": "3.7.3"
  }
 },
 "nbformat": 4,
 "nbformat_minor": 2
}
