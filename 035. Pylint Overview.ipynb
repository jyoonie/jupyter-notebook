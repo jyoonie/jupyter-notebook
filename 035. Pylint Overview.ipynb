{
 "cells": [
  {
   "cell_type": "code",
   "execution_count": 1,
   "metadata": {},
   "outputs": [],
   "source": [
    "#There are several testing tools, we will focus on two\n",
    "#pylint: This is a library that looks at your code and reports back possible issues\n",
    "#unittest: This built-in library will allow to test your own programs and check\n",
    "#you are getting desired outputs"
   ]
  },
  {
   "cell_type": "code",
   "execution_count": 2,
   "metadata": {},
   "outputs": [],
   "source": [
    "#command prompt에서 pylint 설치한 뒤(pip install pylint) \n",
    "#sublime text에서 py file 만들고 저장 후\n",
    "#command prompt로 다시 가서 파일 현재 위치에서 pylint ---.py 치면\n",
    "#그 파일 코딩에 대한 전체적인 리포트가 나옴!"
   ]
  },
  {
   "cell_type": "code",
   "execution_count": null,
   "metadata": {},
   "outputs": [],
   "source": [
    "#function 쓸 때 autotab 기능 그대로 이용하면 mix-indentation error가 생길 수 있으므로\n",
    "#autotab 된 걸 지우고 스페이스바로 네 칸 띄우기\n",
    "#확인해보려면 빈공간 하이라이팅 했을 때 희미한 점이 세 칸 보일것임(스페이스일 경우!)\n",
    "#탭일 경우는 하이라이팅 시 줄이 생긴다"
   ]
  }
 ],
 "metadata": {
  "kernelspec": {
   "display_name": "Python 3",
   "language": "python",
   "name": "python3"
  },
  "language_info": {
   "codemirror_mode": {
    "name": "ipython",
    "version": 3
   },
   "file_extension": ".py",
   "mimetype": "text/x-python",
   "name": "python",
   "nbconvert_exporter": "python",
   "pygments_lexer": "ipython3",
   "version": "3.7.3"
  }
 },
 "nbformat": 4,
 "nbformat_minor": 2
}
